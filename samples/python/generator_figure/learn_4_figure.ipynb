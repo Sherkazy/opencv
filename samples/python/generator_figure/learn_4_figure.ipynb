{
 "cells": [
  {
   "cell_type": "code",
   "execution_count": 1,
   "metadata": {
    "pycharm": {
     "is_executing": false
    }
   },
   "outputs": [],
   "source": [
    "# python notebook for Make Your Own Neural Network\n",
    "# code for a 3-layer neural network, and code for learning the MNIST dataset\n",
    "# (c) Tariq Rashid, 2016\n",
    "# license is GPLv2"
   ]
  },
  {
   "cell_type": "code",
   "execution_count": 2,
   "metadata": {
    "pycharm": {
     "is_executing": false
    }
   },
   "outputs": [],
   "source": [
    "import numpy\n",
    "# scipy.special for the sigmoid function expit()\n",
    "import scipy.special\n",
    "\n",
    "# helper to load data from PNG image files\n",
    "import imageio\n",
    "# glob helps select multiple files using patterns\n",
    "import glob\n",
    "# library for plotting arrays\n",
    "import matplotlib.pyplot\n",
    "# ensure the plots are inside this notebook, not an external window\n",
    "%matplotlib inline"
   ]
  },
  {
   "cell_type": "code",
   "execution_count": 3,
   "metadata": {
    "pycharm": {
     "is_executing": false
    }
   },
   "outputs": [],
   "source": [
    "# neural network class definition\n",
    "class neuralNetwork:\n",
    "    \n",
    "    \n",
    "    # initialise the neural network\n",
    "    def __init__(self, inputnodes, hiddennodes, outputnodes, learningrate):\n",
    "        # set number of nodes in each input, hidden, output layer\n",
    "        self.inodes = inputnodes\n",
    "        self.hnodes = hiddennodes\n",
    "        self.onodes = outputnodes\n",
    "        \n",
    "        # link weight matrices, wih and who\n",
    "        # weights inside the arrays are w_i_j, where link is from node i to node j in the next layer\n",
    "        # w11 w21\n",
    "        # w12 w22 etc \n",
    "        self.wih = numpy.random.normal(0.0, pow(self.inodes, -0.5), (self.hnodes, self.inodes))\n",
    "        self.who = numpy.random.normal(0.0, pow(self.hnodes, -0.5), (self.onodes, self.hnodes))\n",
    "\n",
    "        # learning rate\n",
    "        self.lr = learningrate\n",
    "        \n",
    "        # activation function is the sigmoid function\n",
    "        self.activation_function = lambda x: scipy.special.expit(x)\n",
    "        \n",
    "        pass\n",
    "\n",
    "    \n",
    "    # train the neural network\n",
    "    def train(self, inputs_list, targets_list):\n",
    "        # convert inputs list to 2d array\n",
    "        inputs = numpy.array(inputs_list, ndmin=2).T\n",
    "        targets = numpy.array(targets_list, ndmin=2).T\n",
    "        \n",
    "        # calculate signals into hidden layer\n",
    "        hidden_inputs = numpy.dot(self.wih, inputs)\n",
    "        # calculate the signals emerging from hidden layer\n",
    "        hidden_outputs = self.activation_function(hidden_inputs)\n",
    "        \n",
    "        # calculate signals into final output layer\n",
    "        final_inputs = numpy.dot(self.who, hidden_outputs)\n",
    "        # calculate the signals emerging from final output layer\n",
    "        final_outputs = self.activation_function(final_inputs)\n",
    "        \n",
    "        # output layer error is the (target - actual)\n",
    "        output_errors = targets - final_outputs\n",
    "        # hidden layer error is the output_errors, split by weights, recombined at hidden nodes\n",
    "        hidden_errors = numpy.dot(self.who.T, output_errors) \n",
    "        \n",
    "        # update the weights for the links between the hidden and output layers\n",
    "        self.who += self.lr * numpy.dot((output_errors * final_outputs * (1.0 - final_outputs)), numpy.transpose(hidden_outputs))\n",
    "        \n",
    "        # update the weights for the links between the input and hidden layers\n",
    "        self.wih += self.lr * numpy.dot((hidden_errors * hidden_outputs * (1.0 - hidden_outputs)), numpy.transpose(inputs))\n",
    "        \n",
    "        pass\n",
    "\n",
    "    \n",
    "    def query(self, inputs_list):\n",
    "        # convert inputs list to 2d array\n",
    "        inputs = numpy.array(inputs_list, ndmin=2).T\n",
    "        \n",
    "        # calculate signals into hidden layer\n",
    "        hidden_inputs = numpy.dot(self.wih, inputs)\n",
    "        # calculate the signals emerging from hidden layer\n",
    "        hidden_outputs = self.activation_function(hidden_inputs)\n",
    "        \n",
    "        # calculate signals into final output layer\n",
    "        final_inputs = numpy.dot(self.who, hidden_outputs)\n",
    "        # calculate the signals emerging from final output layer\n",
    "        final_outputs = self.activation_function(final_inputs)\n",
    "        \n",
    "        return final_outputs\n",
    "    "
   ]
  },
  {
   "cell_type": "code",
   "execution_count": 4,
   "metadata": {
    "pycharm": {
     "is_executing": false
    }
   },
   "outputs": [],
   "source": [
    "input_nodes = 40000\n",
    "hidden_nodes = 200\n",
    "output_nodes = 3\n",
    "\n",
    "learning_rate = 0.1\n",
    "\n",
    "n = neuralNetwork(input_nodes,hidden_nodes,output_nodes, learning_rate)"
   ]
  },
  {
   "cell_type": "code",
   "execution_count": 5,
   "metadata": {
    "pycharm": {
     "is_executing": false
    }
   },
   "outputs": [
    {
     "name": "stdout",
     "output_type": "stream",
     "text": [
      "0\n",
      "1\n",
      "2\n",
      "3\n",
      "17350\n"
     ]
    }
   ],
   "source": [
    "our_own_dataset = []\n",
    "    \n",
    "text = ''\n",
    "for item in range(4):\n",
    "    print(item)\n",
    "    if item == 0:\n",
    "        text = '????'\n",
    "    # elif item == 1:\n",
    "    #     text = '??'\n",
    "    # elif item == 2:\n",
    "    #     text = '???'\n",
    "    # elif item == 3:\n",
    "    #     text = '????'\n",
    "    else:\n",
    "        continue\n",
    "    for image_file_name in glob.glob('../gradient_tabuu/star/'+text+'.png'):\n",
    "        label = 0\n",
    "        img_array = imageio.imread(image_file_name, as_gray=True)\n",
    "        img_data  = 255.0 - img_array.reshape(40000)\n",
    "        record = numpy.append(label,img_data)\n",
    "        our_own_dataset.append(record)\n",
    "        pass\n",
    "    for image_file_name in glob.glob('my_triangle/'+text+'.png'):\n",
    "        label = 1\n",
    "        img_array = imageio.imread(image_file_name, as_gray=True)\n",
    "        img_data  = 255.0 - img_array.reshape(40000)\n",
    "        record = numpy.append(label,img_data)\n",
    "        our_own_dataset.append(record)\n",
    "        pass\n",
    "    for image_file_name in glob.glob('../gradient_tabuu/circle/'+text+'.png'):\n",
    "        label = 2\n",
    "        img_array = imageio.imread(image_file_name, as_gray=True)\n",
    "        img_data  = 255.0 - img_array.reshape(40000)\n",
    "        record = numpy.append(label,img_data)\n",
    "        our_own_dataset.append(record)\n",
    "        pass\n",
    "    for image_file_name in glob.glob('../gradient_tabuu/square/'+text+'.png'):\n",
    "        label = 3\n",
    "        img_array = imageio.imread(image_file_name, as_gray=True)\n",
    "        img_data  = 255.0 - img_array.reshape(40000)\n",
    "        record = numpy.append(label,img_data)\n",
    "        our_own_dataset.append(record)\n",
    "        pass\n",
    "print(len(our_own_dataset))"
   ]
  },
  {
   "cell_type": "code",
   "execution_count": 6,
   "metadata": {
    "pycharm": {
     "is_executing": false
    }
   },
   "outputs": [
    {
     "name": "stdout",
     "output_type": "stream",
     "text": [
      "[0.99 0.01 0.01]\n",
      "[0.99 0.01 0.01]\n",
      "[0.99 0.01 0.01]\n",
      "[0.99 0.01 0.01]\n",
      "[0.99 0.01 0.01]\n",
      "[0.99 0.01 0.01]\n",
      "[0.99 0.01 0.01]\n",
      "[0.99 0.01 0.01]\n",
      "[0.99 0.01 0.01]\n",
      "[0.99 0.01 0.01]\n",
      "[0.99 0.01 0.01]\n",
      "[0.99 0.01 0.01]\n",
      "[0.99 0.01 0.01]\n",
      "[0.99 0.01 0.01]\n",
      "[0.99 0.01 0.01]\n",
      "[0.99 0.01 0.01]\n",
      "[0.99 0.01 0.01]\n",
      "[0.99 0.01 0.01]\n",
      "[0.99 0.01 0.01]\n",
      "[0.99 0.01 0.01]\n",
      "[0.99 0.01 0.01]\n",
      "[0.99 0.01 0.01]\n",
      "[0.99 0.01 0.01]\n",
      "[0.99 0.01 0.01]\n",
      "[0.99 0.01 0.01]\n",
      "[0.99 0.01 0.01]\n",
      "[0.99 0.01 0.01]\n",
      "[0.99 0.01 0.01]\n",
      "[0.01 0.99 0.01]\n",
      "[0.01 0.99 0.01]\n",
      "[0.01 0.99 0.01]\n",
      "[0.01 0.99 0.01]\n",
      "[0.01 0.99 0.01]\n",
      "[0.01 0.99 0.01]\n",
      "[0.01 0.99 0.01]\n",
      "[0.01 0.99 0.01]\n",
      "[0.01 0.99 0.01]\n",
      "[0.01 0.99 0.01]\n",
      "[0.01 0.99 0.01]\n",
      "[0.01 0.99 0.01]\n",
      "[0.01 0.99 0.01]\n",
      "[0.01 0.99 0.01]\n",
      "[0.01 0.99 0.01]\n",
      "[0.01 0.99 0.01]\n",
      "[0.01 0.99 0.01]\n",
      "[0.01 0.99 0.01]\n",
      "[0.01 0.99 0.01]\n",
      "[0.01 0.99 0.01]\n",
      "[0.01 0.99 0.01]\n",
      "[0.01 0.99 0.01]\n",
      "[0.01 0.99 0.01]\n",
      "[0.01 0.99 0.01]\n",
      "[0.01 0.99 0.01]\n",
      "[0.01 0.99 0.01]\n",
      "[0.01 0.99 0.01]\n",
      "[0.01 0.99 0.01]\n",
      "[0.01 0.99 0.01]\n",
      "[0.01 0.99 0.01]\n",
      "[0.01 0.99 0.01]\n",
      "[0.01 0.99 0.01]\n",
      "[0.01 0.99 0.01]\n",
      "[0.01 0.99 0.01]\n",
      "[0.01 0.99 0.01]\n",
      "[0.01 0.99 0.01]\n",
      "[0.01 0.99 0.01]\n",
      "[0.01 0.99 0.01]\n",
      "[0.01 0.99 0.01]\n",
      "[0.01 0.99 0.01]\n",
      "[0.01 0.99 0.01]\n",
      "[0.01 0.99 0.01]\n",
      "[0.01 0.99 0.01]\n",
      "[0.01 0.99 0.01]\n",
      "[0.01 0.99 0.01]\n",
      "[0.01 0.99 0.01]\n",
      "[0.01 0.99 0.01]\n",
      "[0.01 0.99 0.01]\n",
      "[0.01 0.99 0.01]\n",
      "[0.01 0.99 0.01]\n",
      "[0.01 0.99 0.01]\n",
      "[0.01 0.99 0.01]\n",
      "[0.01 0.99 0.01]\n",
      "[0.01 0.99 0.01]\n",
      "[0.01 0.99 0.01]\n",
      "[0.01 0.99 0.01]\n",
      "[0.01 0.99 0.01]\n",
      "[0.01 0.99 0.01]\n",
      "[0.01 0.99 0.01]\n",
      "[0.01 0.99 0.01]\n",
      "[0.01 0.99 0.01]\n",
      "[0.01 0.99 0.01]\n",
      "[0.01 0.99 0.01]\n",
      "[0.01 0.99 0.01]\n",
      "[0.01 0.99 0.01]\n",
      "[0.01 0.99 0.01]\n",
      "[0.01 0.99 0.01]\n",
      "[0.01 0.99 0.01]\n",
      "[0.01 0.99 0.01]\n",
      "[0.01 0.99 0.01]\n",
      "[0.01 0.99 0.01]\n",
      "[0.01 0.99 0.01]\n",
      "[0.01 0.99 0.01]\n",
      "[0.01 0.99 0.01]\n",
      "[0.01 0.99 0.01]\n",
      "[0.01 0.99 0.01]\n",
      "[0.01 0.99 0.01]\n",
      "[0.01 0.99 0.01]\n",
      "[0.01 0.99 0.01]\n",
      "[0.01 0.99 0.01]\n",
      "[0.01 0.99 0.01]\n",
      "[0.01 0.99 0.01]\n",
      "[0.01 0.99 0.01]\n",
      "[0.01 0.99 0.01]\n",
      "[0.01 0.99 0.01]\n",
      "[0.01 0.99 0.01]\n",
      "[0.01 0.99 0.01]\n",
      "[0.01 0.99 0.01]\n",
      "[0.01 0.99 0.01]\n",
      "[0.01 0.99 0.01]\n",
      "[0.01 0.99 0.01]\n",
      "[0.01 0.01 0.99]\n",
      "[0.01 0.01 0.99]\n",
      "[0.01 0.01 0.99]\n",
      "[0.01 0.01 0.99]\n",
      "[0.01 0.01 0.99]\n",
      "[0.01 0.01 0.99]\n",
      "[0.01 0.01 0.99]\n",
      "[0.01 0.01 0.99]\n",
      "[0.01 0.01 0.99]\n",
      "[0.01 0.01 0.99]\n",
      "[0.01 0.01 0.99]\n",
      "[0.01 0.01 0.99]\n",
      "[0.01 0.01 0.99]\n",
      "[0.01 0.01 0.99]\n",
      "[0.01 0.01 0.99]\n",
      "[0.01 0.01 0.99]\n",
      "[0.01 0.01 0.99]\n",
      "[0.01 0.01 0.99]\n",
      "[0.01 0.01 0.99]\n",
      "[0.01 0.01 0.99]\n",
      "[0.01 0.01 0.99]\n",
      "[0.01 0.01 0.99]\n",
      "[0.01 0.01 0.99]\n",
      "[0.01 0.01 0.99]\n",
      "[0.01 0.01 0.99]\n",
      "[0.01 0.01 0.99]\n",
      "[0.01 0.01 0.99]\n"
     ]
    },
    {
     "ename": "IndexError",
     "evalue": "index 3 is out of bounds for axis 0 with size 3",
     "output_type": "error",
     "traceback": [
      "\u001b[0;31m---------------------------------------------------------------------------\u001b[0m",
      "\u001b[0;31mIndexError\u001b[0m                                Traceback (most recent call last)",
      "\u001b[0;32m<ipython-input-6-a0f1a662e698>\u001b[0m in \u001b[0;36m<module>\u001b[0;34m\u001b[0m\n\u001b[1;32m      8\u001b[0m         \u001b[0minputs\u001b[0m \u001b[0;34m=\u001b[0m \u001b[0;34m(\u001b[0m\u001b[0mnumpy\u001b[0m\u001b[0;34m.\u001b[0m\u001b[0masfarray\u001b[0m\u001b[0;34m(\u001b[0m\u001b[0mall_values\u001b[0m\u001b[0;34m[\u001b[0m\u001b[0;36m1\u001b[0m\u001b[0;34m:\u001b[0m\u001b[0;34m]\u001b[0m\u001b[0;34m)\u001b[0m \u001b[0;34m/\u001b[0m \u001b[0;36m255.0\u001b[0m \u001b[0;34m*\u001b[0m \u001b[0;36m0.99\u001b[0m\u001b[0;34m)\u001b[0m \u001b[0;34m+\u001b[0m \u001b[0;36m0.01\u001b[0m\u001b[0;34m\u001b[0m\u001b[0;34m\u001b[0m\u001b[0m\n\u001b[1;32m      9\u001b[0m         \u001b[0mtargets\u001b[0m \u001b[0;34m=\u001b[0m \u001b[0mnumpy\u001b[0m\u001b[0;34m.\u001b[0m\u001b[0mzeros\u001b[0m\u001b[0;34m(\u001b[0m\u001b[0moutput_nodes\u001b[0m\u001b[0;34m)\u001b[0m \u001b[0;34m+\u001b[0m \u001b[0;36m0.01\u001b[0m\u001b[0;34m\u001b[0m\u001b[0;34m\u001b[0m\u001b[0m\n\u001b[0;32m---> 10\u001b[0;31m         \u001b[0mtargets\u001b[0m\u001b[0;34m[\u001b[0m\u001b[0mint\u001b[0m\u001b[0;34m(\u001b[0m\u001b[0mall_values\u001b[0m\u001b[0;34m[\u001b[0m\u001b[0;36m0\u001b[0m\u001b[0;34m]\u001b[0m\u001b[0;34m)\u001b[0m\u001b[0;34m]\u001b[0m \u001b[0;34m=\u001b[0m \u001b[0;36m0.99\u001b[0m\u001b[0;34m\u001b[0m\u001b[0;34m\u001b[0m\u001b[0m\n\u001b[0m\u001b[1;32m     11\u001b[0m         \u001b[0;32mif\u001b[0m \u001b[0mi\u001b[0m\u001b[0;34m%\u001b[0m\u001b[0;36m100\u001b[0m \u001b[0;34m==\u001b[0m \u001b[0;36m1\u001b[0m\u001b[0;34m:\u001b[0m\u001b[0;34m\u001b[0m\u001b[0;34m\u001b[0m\u001b[0m\n\u001b[1;32m     12\u001b[0m             \u001b[0mprint\u001b[0m\u001b[0;34m(\u001b[0m\u001b[0mtargets\u001b[0m\u001b[0;34m)\u001b[0m\u001b[0;34m\u001b[0m\u001b[0;34m\u001b[0m\u001b[0m\n",
      "\u001b[0;31mIndexError\u001b[0m: index 3 is out of bounds for axis 0 with size 3"
     ]
    }
   ],
   "source": [
    "epochs = 1\n",
    "\n",
    "for e in range(epochs):\n",
    "    i = 0\n",
    "    for all_values in our_own_dataset:\n",
    "        i = i + 1\n",
    "#         inputs = (numpy.asfarray(all_values[1:]) / 255.0 * 0.99) + 0.01\n",
    "        inputs = (numpy.asfarray(all_values[1:]) / 255.0 * 0.99) + 0.01\n",
    "        targets = numpy.zeros(output_nodes) + 0.01\n",
    "        targets[int(all_values[0])] = 0.99\n",
    "        if i%100 == 1:\n",
    "            print(targets)\n",
    "        n.train(inputs, targets)\n",
    "        pass\n",
    "    pass"
   ]
  },
  {
   "cell_type": "code",
   "execution_count": 16,
   "metadata": {
    "pycharm": {
     "is_executing": false
    }
   },
   "outputs": [],
   "source": [
    "our_own_test = []\n",
    "i = 0\n",
    "# for image_file_name in glob.glob('shapes/star/????.png'):\n",
    "#     i+=1\n",
    "#     label = 1\n",
    "#     img_array = imageio.imread(image_file_name, as_gray=True)\n",
    "#     img_data  = 255.0 - img_array.reshape(40000)\n",
    "#     img_data = (img_data / 255.0 * 0.99) + 0.01\n",
    "#     record = numpy.append(label,img_data)\n",
    "#     if i % 50 == 0:\n",
    "#         our_own_test.append(record)\n",
    "#     pass\n",
    "# for image_file_name in glob.glob('shapes/circle/?.png'):\n",
    "#     i+=1\n",
    "#     label = 0\n",
    "#     img_array = imageio.imread(image_file_name, as_gray=True)\n",
    "#     img_data  = 255.0 - img_array.reshape(40000)\n",
    "#     img_data = (img_data / 255.0 * 0.99) + 0.01\n",
    "#     record = numpy.append(label,img_data)\n",
    "#     if i % 50 == 0:\n",
    "#         our_own_test.append(record)\n",
    "# #     break\n",
    "#     pass\n",
    "# \n",
    "# for image_file_name in glob.glob('../gradient_tabuu/triangle/??.png'):\n",
    "#     i+=1\n",
    "#     label = 1\n",
    "#     img_array = imageio.imread(image_file_name, as_gray=True)\n",
    "#     img_data  = 255.0 - img_array.reshape(40000)\n",
    "#     img_data = (img_data / 255.0 * 0.99) + 0.01\n",
    "#     record = numpy.append(label,img_data)\n",
    "#     # if i % 5 == 0:\n",
    "#     our_own_test.append(record)\n",
    "#     pass\n",
    "# \n",
    "for image_file_name in glob.glob('my_square/???.png'):\n",
    "    i+=1\n",
    "    label = 1\n",
    "    img_array = imageio.imread(image_file_name, as_gray=True)\n",
    "    img_data  = 255.0 - img_array.reshape(40000)\n",
    "    img_data = (img_data / 255.0 * 0.99) + 0.01\n",
    "    record = numpy.append(label,img_data)\n",
    "    # if i % 50 == 0:\n",
    "    our_own_test.append(record)\n",
    "    break\n",
    "    pass"
   ]
  },
  {
   "cell_type": "code",
   "execution_count": 17,
   "metadata": {
    "pycharm": {
     "is_executing": false
    }
   },
   "outputs": [
    {
     "name": "stdout",
     "output_type": "stream",
     "text": [
      "[[0.01004187]\n",
      " [0.01017705]\n",
      " [0.98979236]] 1 2\n"
     ]
    }
   ],
   "source": [
    "scorecard = []\n",
    "for all_values in our_own_test:\n",
    "    correct_label = int(all_values[0])\n",
    "    inputs = all_values[1:]\n",
    "    outputs = n.query(inputs)\n",
    "    label = numpy.argmax(outputs)\n",
    "    print(outputs, correct_label, label)\n",
    "    if (label == correct_label):\n",
    "        scorecard.append(1)\n",
    "    else:\n",
    "        scorecard.append(0)\n",
    "        pass\n",
    "    \n",
    "    pass"
   ]
  },
  {
   "cell_type": "code",
   "execution_count": null,
   "metadata": {
    "pycharm": {
     "is_executing": false,
     "name": "#%%\n"
    }
   },
   "outputs": [],
   "source": [
    "# calculate the performance score, the fraction of correct answers\n",
    "scorecard_array = numpy.asarray(scorecard)\n",
    "print (\"performance = \", scorecard_array.sum() / scorecard_array.size)\n",
    "\n",
    "\n"
   ]
  }
 ],
 "metadata": {
  "kernelspec": {
   "display_name": "PyCharm (four_shape)",
   "language": "python",
   "name": "pycharm-3decc567"
  },
  "language_info": {
   "codemirror_mode": {
    "name": "ipython",
    "version": 3
   },
   "file_extension": ".py",
   "mimetype": "text/x-python",
   "name": "python",
   "nbconvert_exporter": "python",
   "pygments_lexer": "ipython3",
   "version": "3.6.9"
  },
  "pycharm": {
   "stem_cell": {
    "cell_type": "raw",
    "metadata": {
     "collapsed": false
    },
    "source": []
   }
  }
 },
 "nbformat": 4,
 "nbformat_minor": 1
}
