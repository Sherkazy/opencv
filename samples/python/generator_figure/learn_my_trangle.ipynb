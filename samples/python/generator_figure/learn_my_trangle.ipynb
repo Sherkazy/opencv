{
 "cells": [
  {
   "cell_type": "code",
   "execution_count": 1,
   "metadata": {
    "pycharm": {
     "is_executing": false
    }
   },
   "outputs": [],
   "source": [
    "# python notebook for Make Your Own Neural Network\n",
    "# code for a 3-layer neural network, and code for learning the MNIST dataset\n",
    "# (c) Tariq Rashid, 2016\n",
    "# license is GPLv2"
   ]
  },
  {
   "cell_type": "code",
   "execution_count": 2,
   "metadata": {
    "pycharm": {
     "is_executing": false
    }
   },
   "outputs": [],
   "source": [
    "import numpy\n",
    "# scipy.special for the sigmoid function expit()\n",
    "import scipy.special\n",
    "\n",
    "# helper to load data from PNG image files\n",
    "import imageio\n",
    "# glob helps select multiple files using patterns\n",
    "import glob\n",
    "# library for plotting arrays\n",
    "import matplotlib.pyplot\n",
    "# ensure the plots are inside this notebook, not an external window\n",
    "%matplotlib inline\n",
    "\n",
    "from datetime import datetime\n",
    "startTime = datetime.now()"
   ]
  },
  {
   "cell_type": "code",
   "execution_count": 3,
   "metadata": {
    "pycharm": {
     "is_executing": false
    }
   },
   "outputs": [],
   "source": [
    "# neural network class definition\n",
    "class neuralNetwork:\n",
    "    \n",
    "    \n",
    "    # initialise the neural network\n",
    "    def __init__(self, inputnodes, hiddennodes, outputnodes, learningrate):\n",
    "        # set number of nodes in each input, hidden, output layer\n",
    "        self.inodes = inputnodes\n",
    "        self.hnodes = hiddennodes\n",
    "        self.onodes = outputnodes\n",
    "        \n",
    "        # link weight matrices, wih and who\n",
    "        # weights inside the arrays are w_i_j, where link is from node i to node j in the next layer\n",
    "        # w11 w21\n",
    "        # w12 w22 etc \n",
    "        self.wih = numpy.random.normal(0.0, pow(self.inodes, -0.5), (self.hnodes, self.inodes))\n",
    "        self.who = numpy.random.normal(0.0, pow(self.hnodes, -0.5), (self.onodes, self.hnodes))\n",
    "\n",
    "        # learning rate\n",
    "        self.lr = learningrate\n",
    "        \n",
    "        # activation function is the sigmoid function\n",
    "        self.activation_function = lambda x: scipy.special.expit(x)\n",
    "        \n",
    "        pass\n",
    "\n",
    "    \n",
    "    # train the neural network\n",
    "    def train(self, inputs_list, targets_list):\n",
    "        # convert inputs list to 2d array\n",
    "        inputs = numpy.array(inputs_list, ndmin=2).T\n",
    "        targets = numpy.array(targets_list, ndmin=2).T\n",
    "        \n",
    "        # calculate signals into hidden layer\n",
    "        hidden_inputs = numpy.dot(self.wih, inputs)\n",
    "        # calculate the signals emerging from hidden layer\n",
    "        hidden_outputs = self.activation_function(hidden_inputs)\n",
    "        \n",
    "        # calculate signals into final output layer\n",
    "        final_inputs = numpy.dot(self.who, hidden_outputs)\n",
    "        # calculate the signals emerging from final output layer\n",
    "        final_outputs = self.activation_function(final_inputs)\n",
    "        \n",
    "        # output layer error is the (target - actual)\n",
    "        output_errors = targets - final_outputs\n",
    "        # hidden layer error is the output_errors, split by weights, recombined at hidden nodes\n",
    "        hidden_errors = numpy.dot(self.who.T, output_errors) \n",
    "        \n",
    "        # update the weights for the links between the hidden and output layers\n",
    "        self.who += self.lr * numpy.dot((output_errors * final_outputs * (1.0 - final_outputs)), numpy.transpose(hidden_outputs))\n",
    "        \n",
    "        # update the weights for the links between the input and hidden layers\n",
    "        self.wih += self.lr * numpy.dot((hidden_errors * hidden_outputs * (1.0 - hidden_outputs)), numpy.transpose(inputs))\n",
    "        \n",
    "        pass\n",
    "\n",
    "    \n",
    "    def query(self, inputs_list):\n",
    "        # convert inputs list to 2d array\n",
    "        inputs = numpy.array(inputs_list, ndmin=2).T\n",
    "        \n",
    "        # calculate signals into hidden layer\n",
    "        hidden_inputs = numpy.dot(self.wih, inputs)\n",
    "        # calculate the signals emerging from hidden layer\n",
    "        hidden_outputs = self.activation_function(hidden_inputs)\n",
    "        \n",
    "        # calculate signals into final output layer\n",
    "        final_inputs = numpy.dot(self.who, hidden_outputs)\n",
    "        # calculate the signals emerging from final output layer\n",
    "        final_outputs = self.activation_function(final_inputs)\n",
    "        \n",
    "        return final_outputs\n"
   ]
  },
  {
   "cell_type": "code",
   "execution_count": 4,
   "metadata": {
    "pycharm": {
     "is_executing": false
    }
   },
   "outputs": [],
   "source": [
    "input_nodes = 40000\n",
    "hidden_nodes = 100\n",
    "output_nodes = 1\n",
    "\n",
    "learning_rate = 0.1\n",
    "\n",
    "n = neuralNetwork(input_nodes,hidden_nodes,output_nodes, learning_rate)"
   ]
  },
  {
   "cell_type": "code",
   "execution_count": 5,
   "metadata": {
    "pycharm": {
     "is_executing": false
    }
   },
   "outputs": [
    {
     "name": "stdout",
     "output_type": "stream",
     "text": [
      "0\n",
      "1\n",
      "2\n",
      "20000\n"
     ]
    }
   ],
   "source": [
    "our_own_dataset = []\n",
    "    \n",
    "text = ''\n",
    "for item in range(3):\n",
    "    print(item)\n",
    "    if item == 0:\n",
    "        text = '????'\n",
    "    # elif item == 1:\n",
    "    #     text = '??'\n",
    "    # elif item == 2:\n",
    "    #     text = '???'\n",
    "    # elif item == 3:\n",
    "    #     text = '????'\n",
    "    else:\n",
    "        continue\n",
    "    for image_file_name in glob.glob('MyTriangle/'+text+'.png'):\n",
    "        label = 0\n",
    "        img_array = imageio.imread(image_file_name, as_gray=True)\n",
    "        img_data  = 255.0 - img_array.reshape(10000)\n",
    "        record = numpy.append(label,img_data)\n",
    "        our_own_dataset.append(record)\n",
    "        pass\n",
    "print(len(our_own_dataset))"
   ]
  },
  {
   "cell_type": "code",
   "execution_count": 6,
   "metadata": {
    "pycharm": {
     "is_executing": false
    }
   },
   "outputs": [],
   "source": [
    "epochs = 1\n",
    "\n",
    "for e in range(epochs):\n",
    "    for all_values in our_own_dataset:\n",
    "        inputs = (numpy.asfarray(all_values[1:]) / 255.0 * 0.99) + 0.01\n",
    "        targets = numpy.zeros(output_nodes) + 0.01\n",
    "        targets[int(all_values[0])] = 0.99\n",
    "        n.train(inputs, targets)\n",
    "        pass\n",
    "    pass"
   ]
  },
  {
   "cell_type": "code",
   "execution_count": 7,
   "metadata": {
    "pycharm": {
     "is_executing": false
    }
   },
   "outputs": [
    {
     "name": "stdout",
     "output_type": "stream",
     "text": [
      "0\n",
      "1\n",
      "2\n"
     ]
    }
   ],
   "source": [
    "our_own_test = []\n",
    "i = 0\n",
    "for item in range(3):\n",
    "    print(item)\n",
    "    if item == 0:\n",
    "        text = '?'\n",
    "    elif item == 1:\n",
    "        text = '??'\n",
    "    # elif item == 2:\n",
    "    #     text = '?????'\n",
    "    else:\n",
    "        continue\n",
    "    for image_file_name in glob.glob('MyTriangle/'+text+'.png'):\n",
    "        i+=1\n",
    "        label = 0\n",
    "        img_array = imageio.imread(image_file_name, as_gray=True)\n",
    "        img_data  = 255.0 - img_array.reshape(10000)\n",
    "        img_data = (img_data / 255.0 * 0.99) + 0.01\n",
    "        record = numpy.append(label,img_data)\n",
    "        if i % 220 == 0:\n",
    "            our_own_test.append(record)\n",
    "        pass\n",
    "    for image_file_name in glob.glob('MyTriangle/'+text+'.png'):\n",
    "        i+=1\n",
    "        label = 0\n",
    "        img_array = imageio.imread(image_file_name, as_gray=True)\n",
    "        img_data  = 255.0 - img_array.reshape(10000)\n",
    "        img_data = (img_data / 255.0 * 0.99) + 0.01\n",
    "        record = numpy.append(label,img_data)\n",
    "        if i % 220 == 0:\n",
    "            our_own_test.append(record)\n",
    "        pass"
   ]
  },
  {
   "cell_type": "code",
   "execution_count": 8,
   "metadata": {
    "pycharm": {
     "is_executing": false
    }
   },
   "outputs": [
    {
     "name": "stdout",
     "output_type": "stream",
     "text": [
      "[[0.99000012]] 1 0\n",
      "[[0.99000191]] 1 0\n",
      "[[0.98999972]] 1 0\n",
      "[[0.9900019]] 1 0\n",
      "[[0.99000297]] 1 0\n",
      "[[0.9900019]] 1 0\n",
      "[[0.98999914]] 1 0\n",
      "[[0.98999681]] 1 0\n",
      "[[0.98999764]] 1 0\n",
      "[[0.98999943]] 1 0\n",
      "[[0.98999872]] 1 0\n",
      "[[0.99000021]] 1 0\n",
      "[[0.99000273]] 1 0\n",
      "[[0.98999981]] 1 0\n",
      "[[0.98999896]] 1 0\n",
      "[[0.98999796]] 1 0\n",
      "[[0.99000165]] 1 0\n",
      "[[0.99000198]] 1 0\n",
      "[[0.98999991]] 1 0\n",
      "[[0.9900026]] 1 0\n",
      "[[0.9899986]] 1 0\n",
      "[[0.99000304]] 1 0\n",
      "[[0.99000012]] 1 0\n",
      "[[0.98999646]] 1 0\n",
      "[[0.98999944]] 1 0\n",
      "[[0.98999708]] 1 0\n",
      "[[0.99000051]] 1 0\n",
      "[[0.989999]] 1 0\n",
      "[[0.98999581]] 1 0\n",
      "[[0.9900026]] 1 0\n",
      "[[0.99000348]] 1 0\n",
      "[[0.99000161]] 1 0\n",
      "[[0.98999467]] 1 0\n",
      "[[0.98999975]] 1 0\n",
      "[[0.99000193]] 1 0\n",
      "[[0.99000098]] 1 0\n",
      "[[0.98999913]] 1 0\n",
      "[[0.9899961]] 1 0\n",
      "[[0.99000089]] 1 0\n",
      "[[0.98999983]] 1 0\n",
      "[[0.99000162]] 1 0\n",
      "[[0.99000252]] 1 0\n",
      "[[0.98999981]] 1 0\n",
      "[[0.98999804]] 1 0\n",
      "[[0.98999949]] 1 0\n"
     ]
    }
   ],
   "source": [
    "scorecard = []\n",
    "for all_values in our_own_test:\n",
    "    correct_label = int(all_values[0])\n",
    "    inputs = all_values[1:]\n",
    "    outputs = n.query(inputs)\n",
    "    label = numpy.argmax(outputs)\n",
    "    print(outputs, correct_label, label)\n",
    "    if (label == correct_label):\n",
    "        scorecard.append(1)\n",
    "    else:\n",
    "        scorecard.append(0)\n",
    "        pass\n",
    "    \n",
    "    pass"
   ]
  },
  {
   "cell_type": "code",
   "execution_count": 9,
   "metadata": {
    "pycharm": {
     "is_executing": false,
     "name": "#%%\n"
    }
   },
   "outputs": [
    {
     "name": "stdout",
     "output_type": "stream",
     "text": [
      "performance =  0.0\n",
      "time =  0:01:37.565946\n"
     ]
    }
   ],
   "source": [
    "# calculate the performance score, the fraction of correct answers\n",
    "scorecard_array = numpy.asarray(scorecard)\n",
    "print (\"performance = \", scorecard_array.sum() / scorecard_array.size)\n",
    "diff_time = datetime.now() - startTime\n",
    "print(\"time = \", diff_time)\n",
    "\n"
   ]
  }
 ],
 "metadata": {
  "kernelspec": {
   "display_name": "PyCharm (four_shape)",
   "language": "python",
   "name": "pycharm-3decc567"
  },
  "language_info": {
   "codemirror_mode": {
    "name": "ipython",
    "version": 3
   },
   "file_extension": ".py",
   "mimetype": "text/x-python",
   "name": "python",
   "nbconvert_exporter": "python",
   "pygments_lexer": "ipython3",
   "version": "3.6.9"
  },
  "pycharm": {
   "stem_cell": {
    "cell_type": "raw",
    "source": [],
    "metadata": {
     "collapsed": false
    }
   }
  }
 },
 "nbformat": 4,
 "nbformat_minor": 1
}